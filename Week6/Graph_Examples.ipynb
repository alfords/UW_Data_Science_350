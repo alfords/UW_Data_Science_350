{
 "cells": [
  {
   "cell_type": "markdown",
   "metadata": {},
   "source": [
    "## Setup the graph network"
   ]
  },
  {
   "cell_type": "code",
   "execution_count": 1,
   "metadata": {
    "collapsed": false
   },
   "outputs": [],
   "source": [
    "import networkx as nx\n",
    "import numpy as np\n",
    "import matplotlib.pyplot as plt\n",
    "%matplotlib inline"
   ]
  },
  {
   "cell_type": "code",
   "execution_count": 2,
   "metadata": {
    "collapsed": false
   },
   "outputs": [],
   "source": [
    "v = [{'id':0,'name':'alan'},{'id':1,'name':'betty'},{'id':2,'name':'chris'},\n",
    "     {'id':3,'name':'diane'},{'id':4,'name':'erin'},{'id':5,'name':'frank'},\n",
    "     {'id':6,'name':'gertrude'},{'id':7,'name':'harry'},{'id':8,'name':'iggy'}]"
   ]
  },
  {
   "cell_type": "code",
   "execution_count": 3,
   "metadata": {
    "collapsed": false
   },
   "outputs": [
    {
     "data": {
      "text/plain": [
       "[{'id': 0, 'name': 'alan'},\n",
       " {'id': 1, 'name': 'betty'},\n",
       " {'id': 2, 'name': 'chris'},\n",
       " {'id': 3, 'name': 'diane'},\n",
       " {'id': 4, 'name': 'erin'},\n",
       " {'id': 5, 'name': 'frank'},\n",
       " {'id': 6, 'name': 'gertrude'},\n",
       " {'id': 7, 'name': 'harry'},\n",
       " {'id': 8, 'name': 'iggy'}]"
      ]
     },
     "execution_count": 3,
     "metadata": {},
     "output_type": "execute_result"
    }
   ],
   "source": [
    "v"
   ]
  },
  {
   "cell_type": "code",
   "execution_count": 4,
   "metadata": {
    "collapsed": false
   },
   "outputs": [],
   "source": [
    "e = [(0,2),(1,2),(0,4),(2,5),(2,7),(2,6),(6,8),(3,4),(4,6),(1,5),(0,8),(5,8),(4,8)]"
   ]
  },
  {
   "cell_type": "code",
   "execution_count": 5,
   "metadata": {
    "collapsed": false
   },
   "outputs": [],
   "source": [
    "# Initialize Connections\n",
    "for vi in v:\n",
    "    vi['connections']=[]"
   ]
  },
  {
   "cell_type": "code",
   "execution_count": 6,
   "metadata": {
    "collapsed": false
   },
   "outputs": [
    {
     "data": {
      "text/plain": [
       "[{'connections': [], 'id': 0, 'name': 'alan'},\n",
       " {'connections': [], 'id': 1, 'name': 'betty'},\n",
       " {'connections': [], 'id': 2, 'name': 'chris'},\n",
       " {'connections': [], 'id': 3, 'name': 'diane'},\n",
       " {'connections': [], 'id': 4, 'name': 'erin'},\n",
       " {'connections': [], 'id': 5, 'name': 'frank'},\n",
       " {'connections': [], 'id': 6, 'name': 'gertrude'},\n",
       " {'connections': [], 'id': 7, 'name': 'harry'},\n",
       " {'connections': [], 'id': 8, 'name': 'iggy'}]"
      ]
     },
     "execution_count": 6,
     "metadata": {},
     "output_type": "execute_result"
    }
   ],
   "source": [
    "v"
   ]
  },
  {
   "cell_type": "code",
   "execution_count": 7,
   "metadata": {
    "collapsed": false
   },
   "outputs": [],
   "source": [
    "# Make the connections\n",
    "for i,j in e:\n",
    "    v[i]['connections'].append(v[j]['name'])\n",
    "    v[j]['connections'].append(v[i]['name'])"
   ]
  },
  {
   "cell_type": "code",
   "execution_count": 8,
   "metadata": {
    "collapsed": false
   },
   "outputs": [
    {
     "data": {
      "text/plain": [
       "[{'connections': ['chris', 'erin', 'iggy'], 'id': 0, 'name': 'alan'},\n",
       " {'connections': ['chris', 'frank'], 'id': 1, 'name': 'betty'},\n",
       " {'connections': ['alan', 'betty', 'frank', 'harry', 'gertrude'],\n",
       "  'id': 2,\n",
       "  'name': 'chris'},\n",
       " {'connections': ['erin'], 'id': 3, 'name': 'diane'},\n",
       " {'connections': ['alan', 'diane', 'gertrude', 'iggy'],\n",
       "  'id': 4,\n",
       "  'name': 'erin'},\n",
       " {'connections': ['chris', 'betty', 'iggy'], 'id': 5, 'name': 'frank'},\n",
       " {'connections': ['chris', 'iggy', 'erin'], 'id': 6, 'name': 'gertrude'},\n",
       " {'connections': ['chris'], 'id': 7, 'name': 'harry'},\n",
       " {'connections': ['gertrude', 'alan', 'frank', 'erin'],\n",
       "  'id': 8,\n",
       "  'name': 'iggy'}]"
      ]
     },
     "execution_count": 8,
     "metadata": {},
     "output_type": "execute_result"
    }
   ],
   "source": [
    "v"
   ]
  },
  {
   "cell_type": "markdown",
   "metadata": {
    "collapsed": false
   },
   "source": [
    "## Create graph in NetworkX"
   ]
  },
  {
   "cell_type": "code",
   "execution_count": 9,
   "metadata": {
    "collapsed": true
   },
   "outputs": [],
   "source": [
    "G = nx.Graph()"
   ]
  },
  {
   "cell_type": "code",
   "execution_count": 10,
   "metadata": {
    "collapsed": false
   },
   "outputs": [],
   "source": [
    "# Add nodes\n",
    "for vi in v:\n",
    "    G.add_node(vi['id'], label=vi['name'])\n",
    "\n",
    "# Add edges\n",
    "G.add_edges_from(e)"
   ]
  },
  {
   "cell_type": "code",
   "execution_count": 11,
   "metadata": {
    "collapsed": false,
    "scrolled": true
   },
   "outputs": [
    {
     "data": {
      "text/plain": [
       "[0, 1, 2, 3, 4, 5, 6, 7, 8]"
      ]
     },
     "execution_count": 11,
     "metadata": {},
     "output_type": "execute_result"
    }
   ],
   "source": [
    "G.nodes()"
   ]
  },
  {
   "cell_type": "code",
   "execution_count": 12,
   "metadata": {
    "collapsed": false
   },
   "outputs": [
    {
     "data": {
      "text/plain": [
       "[(0, 8),\n",
       " (0, 2),\n",
       " (0, 4),\n",
       " (1, 2),\n",
       " (1, 5),\n",
       " (2, 5),\n",
       " (2, 6),\n",
       " (2, 7),\n",
       " (3, 4),\n",
       " (4, 8),\n",
       " (4, 6),\n",
       " (5, 8),\n",
       " (6, 8)]"
      ]
     },
     "execution_count": 12,
     "metadata": {},
     "output_type": "execute_result"
    }
   ],
   "source": [
    "G.edges()"
   ]
  },
  {
   "cell_type": "markdown",
   "metadata": {},
   "source": [
    "## Find degrees"
   ]
  },
  {
   "cell_type": "code",
   "execution_count": 13,
   "metadata": {
    "collapsed": false,
    "scrolled": false
   },
   "outputs": [
    {
     "data": {
      "text/plain": [
       "{0: 3, 1: 2, 2: 5, 3: 1, 4: 4, 5: 3, 6: 3, 7: 1, 8: 4}"
      ]
     },
     "execution_count": 13,
     "metadata": {},
     "output_type": "execute_result"
    }
   ],
   "source": [
    "nx.degree(G)"
   ]
  },
  {
   "cell_type": "code",
   "execution_count": 14,
   "metadata": {
    "collapsed": false
   },
   "outputs": [
    {
     "data": {
      "text/plain": [
       "(array([ 2.,  0.,  1.,  0.,  0.,  3.,  0.,  2.,  0.,  1.]),\n",
       " array([ 1. ,  1.4,  1.8,  2.2,  2.6,  3. ,  3.4,  3.8,  4.2,  4.6,  5. ]),\n",
       " <a list of 10 Patch objects>)"
      ]
     },
     "execution_count": 14,
     "metadata": {},
     "output_type": "execute_result"
    },
    {
     "data": {
      "image/png": "[encoded data removed]",
      "text/plain": [
       "<matplotlib.figure.Figure at 0x9aa7a90>"
      ]
     },
     "metadata": {},
     "output_type": "display_data"
    }
   ],
   "source": [
    "plt.hist(nx.degree(G).values())"
   ]
  },
  {
   "cell_type": "markdown",
   "metadata": {},
   "source": [
    "## Plot Graph"
   ]
  },
  {
   "cell_type": "code",
   "execution_count": 15,
   "metadata": {
    "collapsed": false
   },
   "outputs": [
    {
     "data": {
      "image/png": "[encoded data removed]",
      "text/plain": [
       "<matplotlib.figure.Figure at 0x9b93400>"
      ]
     },
     "metadata": {},
     "output_type": "display_data"
    }
   ],
   "source": [
    "nx.draw(G)"
   ]
  },
  {
   "cell_type": "code",
   "execution_count": 16,
   "metadata": {
    "collapsed": false,
    "scrolled": true
   },
   "outputs": [
    {
     "data": {
      "image/png": "[encoded data removed]",
      "text/plain": [
       "<matplotlib.figure.Figure at 0x9bb3da0>"
      ]
     },
     "metadata": {},
     "output_type": "display_data"
    }
   ],
   "source": [
    "nx.draw_circular(G)"
   ]
  },
  {
   "cell_type": "code",
   "execution_count": 17,
   "metadata": {
    "collapsed": false,
    "scrolled": true
   },
   "outputs": [
    {
     "data": {
      "image/png": "[encoded data removed]",
      "text/plain": [
       "<matplotlib.figure.Figure at 0xa175400>"
      ]
     },
     "metadata": {},
     "output_type": "display_data"
    }
   ],
   "source": [
    "# Add labels to plot\n",
    "pos = nx.spring_layout(G)\n",
    "nx.draw(G, pos)\n",
    "\n",
    "pos_counter = 0\n",
    "for vi in v:\n",
    "    lab_text = ' '.join([vi['name'],str(vi['id'])])\n",
    "    x,y = pos[pos_counter]\n",
    "    plt.text(x,y+0.1,s=lab_text, horizontalalignment='center')\n",
    "    pos_counter += 1"
   ]
  },
  {
   "cell_type": "code",
   "execution_count": 18,
   "metadata": {
    "collapsed": false,
    "scrolled": true
   },
   "outputs": [
    {
     "data": {
      "text/plain": [
       "[0, 1, 2, 3, 4, 5, 6, 7, 8]"
      ]
     },
     "execution_count": 18,
     "metadata": {},
     "output_type": "execute_result"
    }
   ],
   "source": [
    "G.nodes()"
   ]
  },
  {
   "cell_type": "code",
   "execution_count": 19,
   "metadata": {
    "collapsed": false,
    "scrolled": false
   },
   "outputs": [],
   "source": [
    "node_size_standard = len(G.nodes())*[300]"
   ]
  },
  {
   "cell_type": "markdown",
   "metadata": {},
   "source": [
    "## Make Connection Recommendations"
   ]
  },
  {
   "cell_type": "code",
   "execution_count": 20,
   "metadata": {
    "collapsed": true
   },
   "outputs": [],
   "source": [
    "# Make recommendations\n",
    "def triangle_completion(user_id):\n",
    "    nested_list = [x['connections'] for x in v if x['name'] in user_id['connections']]\n",
    "    unnested_list = [x for y in nested_list for x in y]\n",
    "    unique_list = list(set(unnested_list))\n",
    "    unique_list_nonself = [x for x in unique_list if x != user_id['name'] and x not in user_id['connections']]\n",
    "    return(unique_list_nonself)"
   ]
  },
  {
   "cell_type": "code",
   "execution_count": 21,
   "metadata": {
    "collapsed": false,
    "scrolled": false
   },
   "outputs": [
    {
     "data": {
      "text/plain": [
       "['gertrude', 'frank', 'diane', 'betty', 'harry']"
      ]
     },
     "execution_count": 21,
     "metadata": {},
     "output_type": "execute_result"
    }
   ],
   "source": [
    "triangle_completion(v[0])"
   ]
  },
  {
   "cell_type": "markdown",
   "metadata": {},
   "source": [
    "## Degree Centrality"
   ]
  },
  {
   "cell_type": "code",
   "execution_count": 22,
   "metadata": {
    "collapsed": false,
    "scrolled": true
   },
   "outputs": [
    {
     "name": "stdout",
     "output_type": "stream",
     "text": [
      "{0: 0.375, 1: 0.25, 2: 0.625, 3: 0.125, 4: 0.5, 5: 0.375, 6: 0.375, 7: 0.125, 8: 0.5}\n"
     ]
    }
   ],
   "source": [
    "print(nx.degree_centrality(G)) # Proportion of shortest paths that go through specified vertex\n",
    "# note that the lowest with 9 vertices is 1/8 = 0.125"
   ]
  },
  {
   "cell_type": "markdown",
   "metadata": {},
   "source": [
    "## Coloring"
   ]
  },
  {
   "cell_type": "code",
   "execution_count": 23,
   "metadata": {
    "collapsed": true
   },
   "outputs": [],
   "source": [
    "# Soon to be implemented in networkx, but here is a work around:"
   ]
  },
  {
   "cell_type": "code",
   "execution_count": 24,
   "metadata": {
    "collapsed": false
   },
   "outputs": [
    {
     "name": "stdout",
     "output_type": "stream",
     "text": [
      "[8, 2, 4]\n",
      "[2, 5]\n",
      "[0, 1, 5, 6, 7]\n",
      "[4]\n",
      "[0, 8, 3, 6]\n",
      "[8, 1, 2]\n",
      "[8, 2, 4]\n",
      "[2]\n",
      "[0, 4, 5, 6]\n"
     ]
    }
   ],
   "source": [
    "# The great thing about networkx is all the built in functionality\n",
    "for n in range(9):\n",
    "    print(G.neighbors(n))"
   ]
  },
  {
   "cell_type": "code",
   "execution_count": 25,
   "metadata": {
    "collapsed": false
   },
   "outputs": [],
   "source": [
    "colors = ['Red', 'Blue', 'Green', 'Yellow',  'Black', 'Orange', 'White']\n",
    "\n",
    "def coloring(node, color):\n",
    "   for neighbor in G.neighbors(node):\n",
    "       color_of_neighbor = colors_of_nodes.get(neighbor, None)\n",
    "       if color_of_neighbor == color:\n",
    "          return False\n",
    "\n",
    "   return True\n",
    "\n",
    "def get_color_for_node(node):\n",
    "    for color in colors:\n",
    "       if coloring(node, color):\n",
    "          return color"
   ]
  },
  {
   "cell_type": "code",
   "execution_count": 26,
   "metadata": {
    "collapsed": false,
    "scrolled": true
   },
   "outputs": [
    {
     "name": "stdout",
     "output_type": "stream",
     "text": [
      "{0: 'Red', 1: 'Red', 2: 'Blue', 3: 'Red', 4: 'Blue', 5: 'Green', 6: 'Red', 7: 'Red', 8: 'Yellow'}\n"
     ]
    }
   ],
   "source": [
    "colors_of_nodes={}\n",
    "for node in G.nodes():\n",
    "        colors_of_nodes[node] = get_color_for_node(node)\n",
    "\n",
    "print colors_of_nodes"
   ]
  },
  {
   "cell_type": "markdown",
   "metadata": {},
   "source": [
    "## Shortest path"
   ]
  },
  {
   "cell_type": "code",
   "execution_count": 27,
   "metadata": {
    "collapsed": false,
    "scrolled": true
   },
   "outputs": [
    {
     "name": "stdout",
     "output_type": "stream",
     "text": [
      "[1, 2, 0, 4]\n"
     ]
    }
   ],
   "source": [
    "print(nx.shortest_path(G,source=1,target=4))"
   ]
  },
  {
   "cell_type": "code",
   "execution_count": 108,
   "metadata": {
    "collapsed": true
   },
   "outputs": [],
   "source": [
    "# See:\n",
    "# http://networkx.lanl.gov/reference/algorithms.html\n",
    "# for all the networkx algorithms!"
   ]
  }
 ],
 "metadata": {
  "kernelspec": {
   "display_name": "Python 2",
   "language": "python",
   "name": "python2"
  },
  "language_info": {
   "codemirror_mode": {
    "name": "ipython",
    "version": 2
   },
   "file_extension": ".py",
   "mimetype": "text/x-python",
   "name": "python",
   "nbconvert_exporter": "python",
   "pygments_lexer": "ipython2",
   "version": "2.7"
  }
 },
 "nbformat": 4,
 "nbformat_minor": 0
}

